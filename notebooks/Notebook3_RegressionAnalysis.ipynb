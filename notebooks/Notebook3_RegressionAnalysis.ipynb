{
 "cells": [
  {
   "cell_type": "markdown",
   "id": "b53a9e3a",
   "metadata": {},
   "source": [
    "# Notebook 3: Statistical Modeling of Maternal Health Outcomes"
   ]
  },
  {
   "cell_type": "markdown",
   "id": "2f545a24",
   "metadata": {},
   "source": [
    "\n",
    "This notebook evaluates the relationship between proxy maternal health funding and key maternal health outcomes, such as **preterm birth rate** and **infant mortality rate**, across Texas counties.\n",
    "\n",
    "We will use **linear regression** to assess whether funding levels are associated with better outcomes, while controlling for potential confounders (e.g., poverty %, insurance coverage).\n"
   ]
  },
  {
   "cell_type": "code",
   "execution_count": 1,
   "id": "b89c372a",
   "metadata": {},
   "outputs": [
    {
     "ename": "ImportError",
     "evalue": "cannot import name '_lazywhere' from 'scipy._lib._util' (/Users/stephmozley/anaconda3/lib/python3.11/site-packages/scipy/_lib/_util.py)",
     "output_type": "error",
     "traceback": [
      "\u001b[0;31m---------------------------------------------------------------------------\u001b[0m",
      "\u001b[0;31mImportError\u001b[0m                               Traceback (most recent call last)",
      "Cell \u001b[0;32mIn[1], line 2\u001b[0m\n\u001b[1;32m      1\u001b[0m \u001b[38;5;28;01mimport\u001b[39;00m \u001b[38;5;21;01mpandas\u001b[39;00m \u001b[38;5;28;01mas\u001b[39;00m \u001b[38;5;21;01mpd\u001b[39;00m\n\u001b[0;32m----> 2\u001b[0m \u001b[38;5;28;01mimport\u001b[39;00m \u001b[38;5;21;01mstatsmodels\u001b[39;00m\u001b[38;5;21;01m.\u001b[39;00m\u001b[38;5;21;01mapi\u001b[39;00m \u001b[38;5;28;01mas\u001b[39;00m \u001b[38;5;21;01msm\u001b[39;00m\n\u001b[1;32m      3\u001b[0m \u001b[38;5;28;01mimport\u001b[39;00m \u001b[38;5;21;01mmatplotlib\u001b[39;00m\u001b[38;5;21;01m.\u001b[39;00m\u001b[38;5;21;01mpyplot\u001b[39;00m \u001b[38;5;28;01mas\u001b[39;00m \u001b[38;5;21;01mplt\u001b[39;00m\n\u001b[1;32m      4\u001b[0m \u001b[38;5;28;01mimport\u001b[39;00m \u001b[38;5;21;01mseaborn\u001b[39;00m \u001b[38;5;28;01mas\u001b[39;00m \u001b[38;5;21;01msns\u001b[39;00m\n",
      "File \u001b[0;32m~/anaconda3/lib/python3.11/site-packages/statsmodels/api.py:78\u001b[0m\n\u001b[1;32m      1\u001b[0m \u001b[38;5;66;03m# -*- coding: utf-8 -*-\u001b[39;00m\n\u001b[1;32m      3\u001b[0m __all__ \u001b[38;5;241m=\u001b[39m [\n\u001b[1;32m      4\u001b[0m     \u001b[38;5;124m\"\u001b[39m\u001b[38;5;124mBayesGaussMI\u001b[39m\u001b[38;5;124m\"\u001b[39m,\n\u001b[1;32m      5\u001b[0m     \u001b[38;5;124m\"\u001b[39m\u001b[38;5;124mBinomialBayesMixedGLM\u001b[39m\u001b[38;5;124m\"\u001b[39m,\n\u001b[0;32m   (...)\u001b[0m\n\u001b[1;32m     74\u001b[0m     \u001b[38;5;124m\"\u001b[39m\u001b[38;5;124m__version_info__\u001b[39m\u001b[38;5;124m\"\u001b[39m\n\u001b[1;32m     75\u001b[0m ]\n\u001b[0;32m---> 78\u001b[0m \u001b[38;5;28;01mfrom\u001b[39;00m \u001b[38;5;21;01m.\u001b[39;00m \u001b[38;5;28;01mimport\u001b[39;00m datasets, distributions, iolib, regression, robust, tools\n\u001b[1;32m     79\u001b[0m \u001b[38;5;28;01mfrom\u001b[39;00m \u001b[38;5;21;01m.\u001b[39;00m\u001b[38;5;21;01m__init__\u001b[39;00m \u001b[38;5;28;01mimport\u001b[39;00m test\n\u001b[1;32m     80\u001b[0m \u001b[38;5;28;01mfrom\u001b[39;00m \u001b[38;5;21;01mstatsmodels\u001b[39;00m\u001b[38;5;21;01m.\u001b[39;00m\u001b[38;5;21;01m_version\u001b[39;00m \u001b[38;5;28;01mimport\u001b[39;00m (\n\u001b[1;32m     81\u001b[0m     version \u001b[38;5;28;01mas\u001b[39;00m __version__, version_tuple \u001b[38;5;28;01mas\u001b[39;00m __version_info__\n\u001b[1;32m     82\u001b[0m )\n",
      "File \u001b[0;32m~/anaconda3/lib/python3.11/site-packages/statsmodels/distributions/__init__.py:7\u001b[0m\n\u001b[1;32m      2\u001b[0m \u001b[38;5;28;01mfrom\u001b[39;00m \u001b[38;5;21;01m.\u001b[39;00m\u001b[38;5;21;01mempirical_distribution\u001b[39;00m \u001b[38;5;28;01mimport\u001b[39;00m (\n\u001b[1;32m      3\u001b[0m     ECDF, ECDFDiscrete, monotone_fn_inverter, StepFunction\n\u001b[1;32m      4\u001b[0m     )\n\u001b[1;32m      5\u001b[0m \u001b[38;5;28;01mfrom\u001b[39;00m \u001b[38;5;21;01m.\u001b[39;00m\u001b[38;5;21;01medgeworth\u001b[39;00m \u001b[38;5;28;01mimport\u001b[39;00m ExpandedNormal\n\u001b[0;32m----> 7\u001b[0m \u001b[38;5;28;01mfrom\u001b[39;00m \u001b[38;5;21;01m.\u001b[39;00m\u001b[38;5;21;01mdiscrete\u001b[39;00m \u001b[38;5;28;01mimport\u001b[39;00m (\n\u001b[1;32m      8\u001b[0m     genpoisson_p, zipoisson, zigenpoisson, zinegbin,\n\u001b[1;32m      9\u001b[0m     )\n\u001b[1;32m     11\u001b[0m __all__ \u001b[38;5;241m=\u001b[39m [\n\u001b[1;32m     12\u001b[0m     \u001b[38;5;124m'\u001b[39m\u001b[38;5;124mECDF\u001b[39m\u001b[38;5;124m'\u001b[39m,\n\u001b[1;32m     13\u001b[0m     \u001b[38;5;124m'\u001b[39m\u001b[38;5;124mECDFDiscrete\u001b[39m\u001b[38;5;124m'\u001b[39m,\n\u001b[0;32m   (...)\u001b[0m\n\u001b[1;32m     21\u001b[0m     \u001b[38;5;124m'\u001b[39m\u001b[38;5;124mzipoisson\u001b[39m\u001b[38;5;124m'\u001b[39m\n\u001b[1;32m     22\u001b[0m     ]\n\u001b[1;32m     24\u001b[0m test \u001b[38;5;241m=\u001b[39m PytestTester()\n",
      "File \u001b[0;32m~/anaconda3/lib/python3.11/site-packages/statsmodels/distributions/discrete.py:5\u001b[0m\n\u001b[1;32m      3\u001b[0m \u001b[38;5;28;01mfrom\u001b[39;00m \u001b[38;5;21;01mscipy\u001b[39;00m\u001b[38;5;21;01m.\u001b[39;00m\u001b[38;5;21;01mstats\u001b[39;00m \u001b[38;5;28;01mimport\u001b[39;00m rv_discrete, poisson, nbinom\n\u001b[1;32m      4\u001b[0m \u001b[38;5;28;01mfrom\u001b[39;00m \u001b[38;5;21;01mscipy\u001b[39;00m\u001b[38;5;21;01m.\u001b[39;00m\u001b[38;5;21;01mspecial\u001b[39;00m \u001b[38;5;28;01mimport\u001b[39;00m gammaln\n\u001b[0;32m----> 5\u001b[0m \u001b[38;5;28;01mfrom\u001b[39;00m \u001b[38;5;21;01mscipy\u001b[39;00m\u001b[38;5;21;01m.\u001b[39;00m\u001b[38;5;21;01m_lib\u001b[39;00m\u001b[38;5;21;01m.\u001b[39;00m\u001b[38;5;21;01m_util\u001b[39;00m \u001b[38;5;28;01mimport\u001b[39;00m _lazywhere\n\u001b[1;32m      7\u001b[0m \u001b[38;5;28;01mfrom\u001b[39;00m \u001b[38;5;21;01mstatsmodels\u001b[39;00m\u001b[38;5;21;01m.\u001b[39;00m\u001b[38;5;21;01mbase\u001b[39;00m\u001b[38;5;21;01m.\u001b[39;00m\u001b[38;5;21;01mmodel\u001b[39;00m \u001b[38;5;28;01mimport\u001b[39;00m GenericLikelihoodModel\n\u001b[1;32m     10\u001b[0m \u001b[38;5;28;01mclass\u001b[39;00m \u001b[38;5;21;01mgenpoisson_p_gen\u001b[39;00m(rv_discrete):\n",
      "\u001b[0;31mImportError\u001b[0m: cannot import name '_lazywhere' from 'scipy._lib._util' (/Users/stephmozley/anaconda3/lib/python3.11/site-packages/scipy/_lib/_util.py)"
     ]
    }
   ],
   "source": [
    "import pandas as pd\n",
    "import statsmodels.api as sm\n",
    "import matplotlib.pyplot as plt\n",
    "import seaborn as sns"
   ]
  },
  {
   "cell_type": "markdown",
   "id": "7a48f4df",
   "metadata": {},
   "source": [
    "## Step 1: Load and Merge Datasets"
   ]
  },
  {
   "cell_type": "code",
   "execution_count": null,
   "id": "de9ee2c9",
   "metadata": {},
   "outputs": [],
   "source": [
    "\n",
    "# Load proxy funding data\n",
    "funding_df = pd.read_csv(\"../data/processed/proxy_funding_by_county_year.csv\")\n",
    "\n",
    "# Load outcomes (example placeholders — replace with actual paths)\n",
    "outcomes_df = pd.read_csv(\"../data/processed/maternal_health_outcomes.csv\")  # should include preterm_rate, infant_mortality, etc.\n",
    "\n",
    "# Load sociodemographic covariates (e.g., poverty %, uninsured %)\n",
    "covars_df = pd.read_csv(\"../data/processed/county_covariates.csv\")\n",
    "\n",
    "# Merge all on county and year\n",
    "merged_df = funding_df.merge(outcomes_df, on=[\"county\", \"year\"]).merge(covars_df, on=[\"county\", \"year\"])\n",
    "\n",
    "merged_df.head()\n"
   ]
  },
  {
   "cell_type": "markdown",
   "id": "bca33479",
   "metadata": {},
   "source": [
    "## Step 2: Linear Regression Model - Preterm Birth Rate"
   ]
  },
  {
   "cell_type": "code",
   "execution_count": null,
   "id": "1485a686",
   "metadata": {},
   "outputs": [],
   "source": [
    "\n",
    "# Define model variables\n",
    "X = merged_df[[\"proxy_funding\", \"poverty_pct\", \"uninsured_women_pct\"]]\n",
    "y = merged_df[\"preterm_birth_rate\"]\n",
    "\n",
    "# Add constant and fit model\n",
    "X = sm.add_constant(X)\n",
    "model = sm.OLS(y, X).fit()\n",
    "print(model.summary())\n"
   ]
  },
  {
   "cell_type": "markdown",
   "id": "27975bfe",
   "metadata": {},
   "source": [
    "## Step 3: Linear Regression Model - Infant Mortality Rate"
   ]
  },
  {
   "cell_type": "code",
   "execution_count": null,
   "id": "65137656",
   "metadata": {},
   "outputs": [],
   "source": [
    "\n",
    "X = merged_df[[\"proxy_funding\", \"poverty_pct\", \"uninsured_women_pct\"]]\n",
    "y = merged_df[\"infant_mortality_rate\"]\n",
    "\n",
    "X = sm.add_constant(X)\n",
    "model2 = sm.OLS(y, X).fit()\n",
    "print(model2.summary())\n"
   ]
  },
  {
   "cell_type": "markdown",
   "id": "d8690e2f",
   "metadata": {},
   "source": [
    "## Step 4: Interpretation"
   ]
  },
  {
   "cell_type": "markdown",
   "id": "513c7d69",
   "metadata": {},
   "source": [
    "\n",
    "- **Coefficients** show the estimated change in outcome per unit change in the predictors.\n",
    "- **p-values** indicate statistical significance. Values < 0.05 suggest a strong relationship.\n",
    "- If `proxy_funding` is significant and negative, this suggests higher funding is associated with better outcomes (e.g., lower preterm rates).\n"
   ]
  }
 ],
 "metadata": {
  "kernelspec": {
   "display_name": "Python 3 (ipykernel)",
   "language": "python",
   "name": "python3"
  },
  "language_info": {
   "codemirror_mode": {
    "name": "ipython",
    "version": 3
   },
   "file_extension": ".py",
   "mimetype": "text/x-python",
   "name": "python",
   "nbconvert_exporter": "python",
   "pygments_lexer": "ipython3",
   "version": "3.11.5"
  }
 },
 "nbformat": 4,
 "nbformat_minor": 5
}
