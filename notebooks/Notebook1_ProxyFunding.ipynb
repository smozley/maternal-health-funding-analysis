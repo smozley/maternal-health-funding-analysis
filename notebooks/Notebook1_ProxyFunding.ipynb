{
 "cells": [
  {
   "cell_type": "markdown",
   "id": "431a27da",
   "metadata": {},
   "source": [
    "# Notebook 1: Proxy Funding Index Calculation"
   ]
  },
  {
   "cell_type": "code",
   "execution_count": 3,
   "id": "f6320c35",
   "metadata": {},
   "outputs": [
    {
     "data": {
      "text/html": [
       "<div>\n",
       "<style scoped>\n",
       "    .dataframe tbody tr th:only-of-type {\n",
       "        vertical-align: middle;\n",
       "    }\n",
       "\n",
       "    .dataframe tbody tr th {\n",
       "        vertical-align: top;\n",
       "    }\n",
       "\n",
       "    .dataframe thead th {\n",
       "        text-align: right;\n",
       "    }\n",
       "</style>\n",
       "<table border=\"1\" class=\"dataframe\">\n",
       "  <thead>\n",
       "    <tr style=\"text-align: right;\">\n",
       "      <th></th>\n",
       "      <th>county</th>\n",
       "      <th>births</th>\n",
       "      <th>year</th>\n",
       "      <th>proxy_funding</th>\n",
       "    </tr>\n",
       "  </thead>\n",
       "  <tbody>\n",
       "    <tr>\n",
       "      <th>0</th>\n",
       "      <td>Zavala</td>\n",
       "      <td>153.0</td>\n",
       "      <td>2017</td>\n",
       "      <td>6019.02</td>\n",
       "    </tr>\n",
       "    <tr>\n",
       "      <th>1</th>\n",
       "      <td>Zapata</td>\n",
       "      <td>239.0</td>\n",
       "      <td>2017</td>\n",
       "      <td>9402.26</td>\n",
       "    </tr>\n",
       "    <tr>\n",
       "      <th>2</th>\n",
       "      <td>Young</td>\n",
       "      <td>208.0</td>\n",
       "      <td>2017</td>\n",
       "      <td>8182.72</td>\n",
       "    </tr>\n",
       "    <tr>\n",
       "      <th>3</th>\n",
       "      <td>Yoakum</td>\n",
       "      <td>141.0</td>\n",
       "      <td>2017</td>\n",
       "      <td>5546.94</td>\n",
       "    </tr>\n",
       "    <tr>\n",
       "      <th>4</th>\n",
       "      <td>Wood</td>\n",
       "      <td>407.0</td>\n",
       "      <td>2017</td>\n",
       "      <td>16011.38</td>\n",
       "    </tr>\n",
       "  </tbody>\n",
       "</table>\n",
       "</div>"
      ],
      "text/plain": [
       "   county  births  year  proxy_funding\n",
       "0  Zavala   153.0  2017        6019.02\n",
       "1  Zapata   239.0  2017        9402.26\n",
       "2   Young   208.0  2017        8182.72\n",
       "3  Yoakum   141.0  2017        5546.94\n",
       "4    Wood   407.0  2017       16011.38"
      ]
     },
     "execution_count": 3,
     "metadata": {},
     "output_type": "execute_result"
    }
   ],
   "source": [
    "import pandas as pd\n",
    "\n",
    "# Load data\n",
    "df = pd.read_csv(\"../data/processed/birth_data_all_years.csv\")\n",
    "\n",
    "# Clean column names\n",
    "df.columns = df.columns.str.strip().str.lower().str.replace(\" \", \"_\")\n",
    "df.rename(columns={\"category\": \"county\"}, inplace=True)\n",
    "\n",
    "# Ensure livebirths is numeric\n",
    "df[\"births\"] = pd.to_numeric(df[\"births\"], errors=\"coerce\")\n",
    "df.dropna(subset=[\"county\", \"year\", \"births\"], inplace=True)\n",
    "\n",
    "# Create proxy funding index\n",
    "PER_BIRTH_ALLOCATION = 39.34\n",
    "df[\"proxy_funding\"] = df[\"births\"] * PER_BIRTH_ALLOCATION\n",
    "\n",
    "# Preview result\n",
    "df.head()"
   ]
  },
  {
   "cell_type": "code",
   "execution_count": 4,
   "id": "4c5614be",
   "metadata": {},
   "outputs": [
    {
     "name": "stdout",
     "output_type": "stream",
     "text": [
      "Saved to ../data/processed/proxy_funding_by_county_year.csv\n"
     ]
    }
   ],
   "source": [
    "# Save the cleaned and enriched dataset\n",
    "df.to_csv(\"../data/processed/proxy_funding_by_county_year.csv\", index=False)\n",
    "print(\"Saved to ../data/processed/proxy_funding_by_county_year.csv\")"
   ]
  }
 ],
 "metadata": {
  "kernelspec": {
   "display_name": "Python 3 (ipykernel)",
   "language": "python",
   "name": "python3"
  },
  "language_info": {
   "codemirror_mode": {
    "name": "ipython",
    "version": 3
   },
   "file_extension": ".py",
   "mimetype": "text/x-python",
   "name": "python",
   "nbconvert_exporter": "python",
   "pygments_lexer": "ipython3",
   "version": "3.11.5"
  }
 },
 "nbformat": 4,
 "nbformat_minor": 5
}
